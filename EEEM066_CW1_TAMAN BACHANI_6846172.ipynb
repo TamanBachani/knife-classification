{
  "nbformat": 4,
  "nbformat_minor": 0,
  "metadata": {
    "colab": {
      "provenance": [],
      "gpuType": "L4"
    },
    "kernelspec": {
      "name": "python3",
      "display_name": "Python 3"
    },
    "language_info": {
      "name": "python"
    },
    "accelerator": "GPU"
  },
  "cells": [
    {
      "cell_type": "code",
      "execution_count": null,
      "metadata": {
        "colab": {
          "base_uri": "https://localhost:8080/"
        },
        "id": "TBpisZhCFf4q",
        "outputId": "6db84f4d-d0e5-4158-829a-a219f84043d6"
      },
      "outputs": [
        {
          "output_type": "stream",
          "name": "stdout",
          "text": [
            "Tue Nov 19 22:24:59 2024       \n",
            "+---------------------------------------------------------------------------------------+\n",
            "| NVIDIA-SMI 535.104.05             Driver Version: 535.104.05   CUDA Version: 12.2     |\n",
            "|-----------------------------------------+----------------------+----------------------+\n",
            "| GPU  Name                 Persistence-M | Bus-Id        Disp.A | Volatile Uncorr. ECC |\n",
            "| Fan  Temp   Perf          Pwr:Usage/Cap |         Memory-Usage | GPU-Util  Compute M. |\n",
            "|                                         |                      |               MIG M. |\n",
            "|=========================================+======================+======================|\n",
            "|   0  NVIDIA A100-SXM4-40GB          Off | 00000000:00:04.0 Off |                    0 |\n",
            "| N/A   30C    P0              46W / 400W |      2MiB / 40960MiB |      0%      Default |\n",
            "|                                         |                      |             Disabled |\n",
            "+-----------------------------------------+----------------------+----------------------+\n",
            "                                                                                         \n",
            "+---------------------------------------------------------------------------------------+\n",
            "| Processes:                                                                            |\n",
            "|  GPU   GI   CI        PID   Type   Process name                            GPU Memory |\n",
            "|        ID   ID                                                             Usage      |\n",
            "|=======================================================================================|\n",
            "|  No running processes found                                                           |\n",
            "+---------------------------------------------------------------------------------------+\n"
          ]
        }
      ],
      "source": [
        "!nvidia-smi"
      ]
    },
    {
      "cell_type": "markdown",
      "metadata": {
        "id": "hMXZpWVjGL18"
      },
      "source": [
        "# Step 2: Code Preparation\n",
        "\n",
        "We need to maintain our codebase with git history, so a file system (Google Drive) is needed\n",
        "1. Select the left file icon and mount your Google Drive\n",
        "2. Move path to Google Drive\n",
        "3. Git clone code base\n"
      ]
    },
    {
      "cell_type": "code",
      "execution_count": null,
      "metadata": {
        "colab": {
          "base_uri": "https://localhost:8080/"
        },
        "id": "KwHaz6UcGNkT",
        "outputId": "644f47a8-2d17-4fa4-cfdb-49fb938defe1"
      },
      "outputs": [
        {
          "output_type": "stream",
          "name": "stdout",
          "text": [
            "Mounted at /content/drive\n"
          ]
        }
      ],
      "source": [
        "\n",
        "from google.colab import drive\n",
        "drive.mount('/content/drive')"
      ]
    },
    {
      "cell_type": "markdown",
      "metadata": {
        "id": "BBP4UTpQGRVA"
      },
      "source": [
        "# Step 3: Data Preparation\n",
        "\n",
        "Because reading images from Google Drive is very slow, we download datasets to Colab temporary file\n",
        "1. Install gdown\n",
        "2. Download data\n",
        "3. Unzip data\n"
      ]
    },
    {
      "cell_type": "code",
      "source": [
        "# !pip install -r '/content/drive/MyDrive/SURREY (UK)/SEM 1/FML/EEEM066_Knife_Classification_code-main/requirements.txt'"
      ],
      "metadata": {
        "id": "aAwW-eW98AQz"
      },
      "execution_count": null,
      "outputs": []
    },
    {
      "cell_type": "code",
      "execution_count": null,
      "metadata": {
        "colab": {
          "base_uri": "https://localhost:8080/"
        },
        "id": "ZMKbzHGKGXXK",
        "outputId": "9e186cc1-ade4-4e9d-8c6e-160dfc658f58"
      },
      "outputs": [
        {
          "output_type": "stream",
          "name": "stdout",
          "text": [
            "/content/drive/MyDrive/SURREY (UK)/SEM 1/FML/EEEM066_Knife_Classification_code-main\n"
          ]
        }
      ],
      "source": [
        "%cd /content/drive/MyDrive/SURREY (UK)/SEM 1/FML/EEEM066_Knife_Classification_code-main"
      ]
    },
    {
      "cell_type": "code",
      "execution_count": null,
      "metadata": {
        "colab": {
          "base_uri": "https://localhost:8080/"
        },
        "id": "EbjSh6_1GZg4",
        "outputId": "abe9b4e3-3ce1-4cda-caba-a48a1739e34d"
      },
      "outputs": [
        {
          "output_type": "stream",
          "name": "stdout",
          "text": [
            "Random seed set to: 42\n",
            "Student ID:6846172\n",
            "Student name:TAMAN BACHANI\n",
            "UUID:bfd0142b-7ab0-4aa5-8014-ff3249c3a7fd\n",
            "==========\n",
            "Args:Namespace(model_mode='tf_efficientnet_b0', dataset_location='/content/drive/MyDrive/SURREY (UK)/SEM 1/FML/EEEM066_Knife_Classification_dataset/', train_datacsv='dataset/train.csv', test_datacsv='dataset/test.csv', saved_checkpoint_path='./logs/', n_classes=192, num_workers=8, seed=42, resized_img_weight=224, resized_img_height=224, evaluate_only=False, model_path=None, epochs=10, batch_size=256, brightness=0.2, contrast=0.2, saturation=0.2, hue=0.2, random_rotation=0, vertical_flip=0, horizontal_flip=0.0, random_erase=False, color_aug=False, optim='adam', learning_rate=0.003, weight_decay=0.0005, momentum=0.9, sgd_dampening=0, sgd_nesterov=False, rmsprop_alpha=0.99, adam_beta1=0.9, adam_beta2=0.999, lr_scheduler='multi_step', stepsize=[20, 40], gamma=0.1)\n",
            "==========\n",
            "------------------------- [START 2024-11-19_23-38-03] -------------------------\n",
            "\n",
            "                           |  Train   |   Valid  |              |\n",
            " | Mode  |  Iter  | Epoch  |   Loss   |    mAP   |     Time     |\n",
            "-------------------------------------------------------------------------------\n",
            "| train |  37.0 |   0.0 |    1.215 |   0.000 |  0 min 40 sec |\n",
            "| val   |   1.0 |   0.0 |    1.215 |   0.596 |  1 min 01 sec |\n",
            "| train |  37.0 |   1.0 |    0.061 |   0.596 |  1 min 40 sec |\n",
            "| val   |   1.0 |   1.0 |    0.061 |   0.597 |  2 min 01 sec |\n",
            "| train |  37.0 |   2.0 |    0.052 |   0.597 |  2 min 41 sec |\n",
            "| val   |   1.0 |   2.0 |    0.052 |   0.598 |  3 min 02 sec |\n",
            "| train |  37.0 |   3.0 |    0.044 |   0.598 |  3 min 42 sec |\n",
            "| val   |   1.0 |   3.0 |    0.044 |   0.603 |  4 min 02 sec |\n",
            "| train |  37.0 |   4.0 |    0.040 |   0.603 |  4 min 42 sec |\n",
            "| val   |   1.0 |   4.0 |    0.040 |   0.602 |  5 min 03 sec |\n",
            "| train |  37.0 |   5.0 |    0.035 |   0.602 |  5 min 43 sec |\n",
            "| val   |   1.0 |   5.0 |    0.035 |   0.600 |  6 min 04 sec |\n",
            "| train |  37.0 |   6.0 |    0.031 |   0.600 |  6 min 44 sec |\n",
            "| val   |   1.0 |   6.0 |    0.031 |   0.599 |  7 min 04 sec |\n",
            "| train |  37.0 |   7.0 |    0.028 |   0.599 |  7 min 45 sec |\n",
            "| val   |   1.0 |   7.0 |    0.028 |   0.610 |  8 min 05 sec |\n",
            "| train |  37.0 |   8.0 |    0.025 |   0.610 |  8 min 45 sec |\n",
            "| val   |   1.0 |   8.0 |    0.025 |   0.601 |  9 min 06 sec |\n",
            "| train |  37.0 |   9.0 |    0.023 |   0.601 |  9 min 45 sec |\n",
            "| val   |   1.0 |   9.0 |    0.023 |   0.599 | 10 min 06 sec |\n",
            "| val   |   1.0 |   9.0 |    0.023 |   0.599 | 10 min 06 sec |"
          ]
        }
      ],
      "source": [
        "!STUDENT_ID=6846172 STUDENT_NAME=\"TAMAN BACHANI\" python main.py \\\n",
        "--dataset_location '/content/drive/MyDrive/SURREY (UK)/SEM 1/FML/EEEM066_Knife_Classification_dataset/' \\\n",
        "--optim adam \\\n",
        "--learning_rate 0.003 \\\n",
        "--epochs 10 \\\n",
        "--stepsize 20 40 \\\n",
        "--batch_size 256 \\\n",
        "--seed 42 \\\n",
        "--resized_img_weight 224 \\\n",
        "--resized_img_height 224 \\\n",
        "--random_rotation 0 \\\n",
        "--horizontal_flip 0 \\\n",
        "--saved_checkpoint_path ./logs/ \\\n"
      ]
    },
    {
      "cell_type": "markdown",
      "metadata": {
        "id": "PKxqyUV3GbJp"
      },
      "source": [
        "# Step 5: Test Trained Model\n",
        "\n",
        "We are now evaluating off-the-shelf ImageNet-pretrained mobilenet_v3_small"
      ]
    },
    {
      "cell_type": "code",
      "execution_count": null,
      "metadata": {
        "id": "WdJ8VZdjGcgB",
        "colab": {
          "base_uri": "https://localhost:8080/"
        },
        "outputId": "d383ba45-c168-4b27-e6f1-e5968086435f"
      },
      "outputs": [
        {
          "output_type": "stream",
          "name": "stdout",
          "text": [
            "Random seed set to: 42\n",
            "Student ID:6846172\n",
            "Student name:TAMAN BACHANI\n",
            "UUID:5418d2b0-cd20-4556-87fc-4b2249340812\n",
            "==========\n",
            "Args:Namespace(model_mode='tf_efficientnet_b0', dataset_location='/content/drive/MyDrive/SURREY (UK)/SEM 1/FML/EEEM066_Knife_Classification_dataset/', train_datacsv='dataset/train.csv', test_datacsv='dataset/test.csv', saved_checkpoint_path='./logs/', n_classes=192, num_workers=8, seed=42, resized_img_weight=224, resized_img_height=224, evaluate_only=True, model_path='./logs/Knife-tf_efficientnet_b0-E10.pth', epochs=10, batch_size=256, brightness=0.2, contrast=0.2, saturation=0.2, hue=0.2, random_rotation=0, vertical_flip=0, horizontal_flip=0, random_erase=False, color_aug=False, optim='adam', learning_rate=0.0003, weight_decay=0.0005, momentum=0.9, sgd_dampening=0, sgd_nesterov=False, rmsprop_alpha=0.99, adam_beta1=0.9, adam_beta2=0.999, lr_scheduler='multi_step', stepsize=[20, 40], gamma=0.1)\n",
            "==========\n",
            "------------------------- [START 2024-11-19_23-48-51] -------------------------\n",
            "\n",
            "                           |  Train   |   Valid  |              |\n",
            " | Mode  |  Iter  | Epoch  |   Loss   |    mAP   |     Time     |\n",
            "-------------------------------------------------------------------------------\n",
            "Model loaded for evaluation.\n",
            "| val   |   1.0 |   0.0 |    0.000 |   0.599 |  0 min 21 sec |\n",
            "| val   |   1.0 |   0.0 |    0.000 |   0.599 |  0 min 21 sec |Evaluation complete.\n"
          ]
        }
      ],
      "source": [
        "!STUDENT_ID=6846172 STUDENT_NAME=\"TAMAN BACHANI\" python main.py \\\n",
        "--dataset_location '/content/drive/MyDrive/SURREY (UK)/SEM 1/FML/EEEM066_Knife_Classification_dataset/' \\\n",
        "--optim adam \\\n",
        "--learning_rate 0.0003 \\\n",
        "--epochs 10 \\\n",
        "--stepsize 20 40 \\\n",
        "--batch_size 256 \\\n",
        "--seed 42 \\\n",
        "--resized_img_weight 224 \\\n",
        "--resized_img_height 224 \\\n",
        "--saved_checkpoint_path ./logs/ \\\n",
        "--evaluate-only \\\n",
        "--model-path './logs/Knife-tf_efficientnet_b0-E10.pth' \\\n"
      ]
    }
  ]
}